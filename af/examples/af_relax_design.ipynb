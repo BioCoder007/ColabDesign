{
  "cells": [
    {
      "cell_type": "markdown",
      "metadata": {
        "id": "view-in-github",
        "colab_type": "text"
      },
      "source": [
        "<a href=\"https://colab.research.google.com/github/sokrypton/ColabDesign/blob/main/af/examples/af_relax_design.ipynb\" target=\"_parent\"><img src=\"https://colab.research.google.com/assets/colab-badge.svg\" alt=\"Open In Colab\"/></a>"
      ]
    },
    {
      "cell_type": "markdown",
      "metadata": {
        "id": "OA2k3sAYuiXe"
      },
      "source": [
        "#af_relax_design (WIP)\n",
        "\n",
        "\n",
        "**Efficient and scalable de novo protein design using a relaxed sequence space**\n",
        "\n",
        "Christopher Josef Frank, Ali Khoshouei, Yosta de Stigter, Dominik Schiewitz, Shihao Feng, Sergey Ovchinnikov, Hendrik Dietz\n",
        "\n",
        "doi: https://doi.org/10.1101/2023.02.24.529906\n",
        "\n",
        "**<font color=\"red\">WARNING</font>** This notebook is in development, we are still working on adding all the options from the manuscript above."
      ]
    },
    {
      "cell_type": "code",
      "execution_count": null,
      "metadata": {
        "cellView": "form",
        "id": "-AXy0s_4cKaK"
      },
      "outputs": [],
      "source": [
        "#@title setup\n",
        "%%time\n",
        "import os\n",
        "if not os.path.isdir(\"params\"):\n",
        "  # get code\n",
        "  os.system(\"pip -q install git+https://github.com/sokrypton/ColabDesign.git@v1.1.0\")\n",
        "  # for debugging\n",
        "  os.system(\"ln -s /usr/local/lib/python3.*/dist-packages/colabdesign colabdesign\")\n",
        "  # download params\n",
        "  os.system(\"mkdir params\")\n",
        "  os.system(\"apt-get install aria2 -qq\")\n",
        "  os.system(\"aria2c -q -x 16 https://storage.googleapis.com/alphafold/alphafold_params_2022-03-02.tar\")\n",
        "  os.system(\"tar -xf alphafold_params_2022-03-02.tar -C params\")\n",
        "\n",
        "import warnings\n",
        "warnings.simplefilter(action='ignore', category=FutureWarning)\n",
        "\n",
        "import os\n",
        "from colabdesign import mk_afdesign_model, clear_mem\n",
        "from colabdesign.mpnn import mk_mpnn_model\n",
        "\n",
        "from IPython.display import HTML\n",
        "from google.colab import files\n",
        "import numpy as np\n",
        "\n",
        "import requests, time\n",
        "if not os.path.isfile(\"TMscore\"):\n",
        "  os.system(\"wget -qnc https://zhanggroup.org/TM-score/TMscore.cpp\")\n",
        "  os.system(\"g++ -static -O3 -ffast-math -lm -o TMscore TMscore.cpp\")\n",
        "def tmscore(x,y):\n",
        "  # pass to TMscore\n",
        "  output = os.popen(f'./TMscore {x} {y}')\n",
        "  # parse outputs\n",
        "  parse_float = lambda x: float(x.split(\"=\")[1].split()[0])\n",
        "  o = {}\n",
        "  for line in output:\n",
        "    line = line.rstrip()\n",
        "    if line.startswith(\"RMSD\"): o[\"rms\"] = parse_float(line)\n",
        "    if line.startswith(\"TM-score\"): o[\"tms\"] = parse_float(line)\n",
        "    if line.startswith(\"GDT-TS-score\"): o[\"gdt\"] = parse_float(line)\n",
        "  return o\n",
        "def esmfold_api(sequence):\n",
        "  esmfold_api_url = 'https://api.esmatlas.com/foldSequence/v1/pdb/'\n",
        "  r = requests.post(esmfold_api_url, data=sequence)\n",
        "  while r.status_code != 200:\n",
        "    time.sleep(5)\n",
        "    r = requests.post(esmfold_api_url, data=sequence)\n",
        "  structure = r.text\n",
        "  return structure"
      ]
    },
    {
      "cell_type": "markdown",
      "source": [
        "## hallucination\n",
        "For a given length, generate/hallucinate a protein sequence that AlphaFold thinks folds into a well structured protein (high plddt, low pae, many contacts)."
      ],
      "metadata": {
        "id": "qLwS2s_xcjRI"
      }
    },
    {
      "cell_type": "code",
      "source": [
        "LENGTH = 200 #@param {type:\"integer\"}\n",
        "COPIES = 1 #@param [\"1\", \"2\", \"3\", \"4\", \"5\", \"6\", \"7\", \"8\"] {type:\"raw\"}\n",
        "MODE = \"paper\" #@param [\"paper\", \"old\"]"
      ],
      "metadata": {
        "cellView": "form",
        "id": "mx4pE5qJII57"
      },
      "execution_count": null,
      "outputs": []
    },
    {
      "cell_type": "code",
      "source": [
        "import jax\n",
        "import jax.numpy as jnp\n",
        "from colabdesign.af.alphafold.common import residue_constants\n",
        "\n",
        "def rg_loss(inputs, outputs):\n",
        "  positions = outputs[\"structure_module\"][\"final_atom_positions\"]\n",
        "  ca = positions[:,residue_constants.atom_order[\"CA\"]]\n",
        "  if MODE == \"paper\":\n",
        "    ca = ca[::5]\n",
        "  rg = jnp.sqrt(jnp.square(ca - ca.mean(0)).sum(-1).mean() + 1e-8)\n",
        "  if MODE == \"old\":\n",
        "    rg_th = 2.38 * ca.shape[0] ** 0.365\n",
        "    rg = jax.nn.elu(rg - rg_th)\n",
        "  return {\"rg\":rg}"
      ],
      "metadata": {
        "id": "AB898EaVZLaT"
      },
      "execution_count": null,
      "outputs": []
    },
    {
      "cell_type": "code",
      "execution_count": null,
      "metadata": {
        "id": "sZnYfCbfEvol"
      },
      "outputs": [],
      "source": [
        "clear_mem()\n",
        "af_model = mk_afdesign_model(protocol=\"hallucination\", loss_callback=rg_loss)\n",
        "mpnn_model = mk_mpnn_model()\n",
        "\n",
        "af_model.opt[\"weights\"][\"rg\"] = 0.1\n",
        "af_model.prep_inputs(length=LENGTH, copies=COPIES)\n",
        "\n",
        "print(\"length\",af_model._lengths)"
      ]
    },
    {
      "cell_type": "code",
      "source": [
        "af_model.restart()\n",
        "if MODE == \"paper\":\n",
        "  af_model.set_seq(mode=[\"gumbel\",\"soft\"])\n",
        "\n",
        "if MODE == \"old\":\n",
        "  # pre-design with gumbel initialization and softmax activation\n",
        "  af_model.set_weights(plddt=0.0, pae=0.0, rg=0.1, con=1.0, helix=0.0)\n",
        "  af_model.set_seq(mode=[\"gumbel\"])\n",
        "  af_model.design_soft(50)\n",
        "  af_model.set_seq(af_model.aux[\"seq\"][\"pseudo\"])\n",
        "\n",
        "af_model.set_weights(plddt=1.0, pae=1.0, rg=0.1, con=1.0, helix=0.0)\n",
        "af_model.design_logits(40)\n",
        "af_model.design_logits(10, save_best=True)"
      ],
      "metadata": {
        "id": "f76xqCkw0vj9"
      },
      "execution_count": null,
      "outputs": []
    },
    {
      "cell_type": "code",
      "execution_count": null,
      "metadata": {
        "id": "A1GxeLZdTTya"
      },
      "outputs": [],
      "source": [
        "af_model.save_pdb(f\"{af_model.protocol}.pdb\")\n",
        "af_model.plot_pdb()"
      ]
    },
    {
      "cell_type": "code",
      "execution_count": null,
      "metadata": {
        "id": "L2E9Tn2Acchj"
      },
      "outputs": [],
      "source": [
        "HTML(af_model.animate())"
      ]
    },
    {
      "cell_type": "code",
      "execution_count": null,
      "metadata": {
        "id": "YSKWYu0_GlUH"
      },
      "outputs": [],
      "source": [
        "af_model.get_seqs()"
      ]
    },
    {
      "cell_type": "markdown",
      "source": [
        "#Redesign with ProteinMPNN"
      ],
      "metadata": {
        "id": "eXtZUF-MbHb9"
      }
    },
    {
      "cell_type": "code",
      "source": [
        "from colabdesign.shared.protein import alphabet_list as chain_list\n",
        "mpnn_model.prep_inputs(pdb_filename=f\"{af_model.protocol}.pdb\",\n",
        "                       chain=\",\".join(chain_list[:COPIES]),\n",
        "                       homooligmer=COPIES>1,\n",
        "                       rm_aa=\"C\")\n",
        "out = mpnn_model.sample(num=1, batch=8)"
      ],
      "metadata": {
        "id": "uQa0FAp7bGQo"
      },
      "execution_count": null,
      "outputs": []
    },
    {
      "cell_type": "code",
      "source": [
        "for seq,score in zip(out[\"seq\"],out[\"score\"]):\n",
        "  print(score,seq.split(\"/\")[0])"
      ],
      "metadata": {
        "id": "JEPyAzBwA9Ts"
      },
      "execution_count": null,
      "outputs": []
    },
    {
      "cell_type": "markdown",
      "source": [
        "#ESMfold TEST"
      ],
      "metadata": {
        "id": "Pqz6YMkUFnG8"
      }
    },
    {
      "cell_type": "code",
      "source": [
        "print(\"# rmsd tmscore sequence\")\n",
        "best = {}\n",
        "best_rmsd = None\n",
        "for n,seq in enumerate(out[\"seq\"]):\n",
        "  x = seq.split(\"/\")[0]\n",
        "  with open(f\"{af_model.protocol}.{n}.pdb\",\"w\") as handle:\n",
        "    pdb_str = esmfold_api(x)\n",
        "    handle.write(pdb_str)\n",
        "  o = tmscore(f\"{af_model.protocol}.pdb\",\n",
        "              f\"{af_model.protocol}.esmfold.{n}.pdb\")\n",
        "  print(n,o[\"rms\"],o[\"tms\"],x)\n",
        "  if best_rmsd is None or o[\"rms\"] < best_rmsd:\n",
        "    best_rmsd = o[\"rms\"] \n",
        "    best = {**o,\"seq\":x}"
      ],
      "metadata": {
        "id": "Ey29NmNAFtK0"
      },
      "execution_count": null,
      "outputs": []
    },
    {
      "cell_type": "code",
      "source": [
        "best"
      ],
      "metadata": {
        "id": "5tGTRZvzFzIL"
      },
      "execution_count": null,
      "outputs": []
    },
    {
      "cell_type": "code",
      "source": [],
      "metadata": {
        "id": "0ULgyvTeM2lr"
      },
      "execution_count": null,
      "outputs": []
    }
  ],
  "metadata": {
    "accelerator": "GPU",
    "colab": {
      "collapsed_sections": [
        "q4qiU9I0QHSz"
      ],
      "provenance": [],
      "include_colab_link": true
    },
    "kernelspec": {
      "display_name": "Python 3",
      "name": "python3"
    },
    "language_info": {
      "name": "python"
    }
  },
  "nbformat": 4,
  "nbformat_minor": 0
}